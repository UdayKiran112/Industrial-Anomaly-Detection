{
 "cells": [
  {
   "cell_type": "code",
   "execution_count": 1,
   "metadata": {},
   "outputs": [],
   "source": [
    "import pandas as pd\n",
    "import os"
   ]
  },
  {
   "cell_type": "code",
   "execution_count": 2,
   "metadata": {},
   "outputs": [],
   "source": [
    "# Define the directory containing the dataset\n",
    "dataset_dir = \"CMAPSSData\""
   ]
  },
  {
   "cell_type": "code",
   "execution_count": 3,
   "metadata": {},
   "outputs": [],
   "source": [
    "# Define the output directory for CSV files\n",
    "output_dir = \"CMAPSS_CSV\""
   ]
  },
  {
   "cell_type": "code",
   "execution_count": 4,
   "metadata": {},
   "outputs": [],
   "source": [
    "# Create the output directory if it doesn't exist\n",
    "os.makedirs(output_dir, exist_ok=True)"
   ]
  },
  {
   "cell_type": "code",
   "execution_count": 5,
   "metadata": {},
   "outputs": [],
   "source": [
    "# List of file names to convert\n",
    "file_names = [\n",
    "    \"train_FD001.txt\", \"test_FD001.txt\", \"RUL_FD001.txt\",\n",
    "    \"train_FD002.txt\", \"test_FD002.txt\", \"RUL_FD002.txt\",\n",
    "    \"train_FD003.txt\", \"test_FD003.txt\", \"RUL_FD003.txt\",\n",
    "    \"train_FD004.txt\", \"test_FD004.txt\", \"RUL_FD004.txt\"\n",
    "]"
   ]
  },
  {
   "cell_type": "code",
   "execution_count": 6,
   "metadata": {},
   "outputs": [],
   "source": [
    "# Column names for the main datasets\n",
    "column_names = [\"unit_number\", \"time_in_cycles\", \"operational_setting_1\", \"operational_setting_2\", \n",
    "                \"operational_setting_3\"] + [f\"sensor_measurement_{i}\" for i in range(1, 22)]\n"
   ]
  },
  {
   "cell_type": "code",
   "execution_count": 7,
   "metadata": {},
   "outputs": [],
   "source": [
    "# ANSI escape codes for colored text\n",
    "green = \"\\033[92m\"\n",
    "yellow = \"\\033[93m\"\n",
    "cyan = \"\\033[96m\"\n",
    "reset = \"\\033[0m\"  # Reset color"
   ]
  },
  {
   "cell_type": "code",
   "execution_count": 8,
   "metadata": {},
   "outputs": [
    {
     "name": "stdout",
     "output_type": "stream",
     "text": [
      "\u001b[92mConverted \u001b[93mtrain_FD001.txt\u001b[92m to \u001b[96mtrain_FD001.csv\u001b[92m in \u001b[93mCMAPSS_CSV\u001b[0m\n",
      "\u001b[92mConverted \u001b[93mtest_FD001.txt\u001b[92m to \u001b[96mtest_FD001.csv\u001b[92m in \u001b[93mCMAPSS_CSV\u001b[0m\n",
      "\u001b[92mConverted \u001b[93mRUL_FD001.txt\u001b[92m to \u001b[96mRUL_FD001.csv\u001b[92m in \u001b[93mCMAPSS_CSV\u001b[0m\n",
      "\u001b[92mConverted \u001b[93mtrain_FD002.txt\u001b[92m to \u001b[96mtrain_FD002.csv\u001b[92m in \u001b[93mCMAPSS_CSV\u001b[0m\n",
      "\u001b[92mConverted \u001b[93mtest_FD002.txt\u001b[92m to \u001b[96mtest_FD002.csv\u001b[92m in \u001b[93mCMAPSS_CSV\u001b[0m\n",
      "\u001b[92mConverted \u001b[93mRUL_FD002.txt\u001b[92m to \u001b[96mRUL_FD002.csv\u001b[92m in \u001b[93mCMAPSS_CSV\u001b[0m\n",
      "\u001b[92mConverted \u001b[93mtrain_FD003.txt\u001b[92m to \u001b[96mtrain_FD003.csv\u001b[92m in \u001b[93mCMAPSS_CSV\u001b[0m\n",
      "\u001b[92mConverted \u001b[93mtest_FD003.txt\u001b[92m to \u001b[96mtest_FD003.csv\u001b[92m in \u001b[93mCMAPSS_CSV\u001b[0m\n",
      "\u001b[92mConverted \u001b[93mRUL_FD003.txt\u001b[92m to \u001b[96mRUL_FD003.csv\u001b[92m in \u001b[93mCMAPSS_CSV\u001b[0m\n",
      "\u001b[92mConverted \u001b[93mtrain_FD004.txt\u001b[92m to \u001b[96mtrain_FD004.csv\u001b[92m in \u001b[93mCMAPSS_CSV\u001b[0m\n",
      "\u001b[92mConverted \u001b[93mtest_FD004.txt\u001b[92m to \u001b[96mtest_FD004.csv\u001b[92m in \u001b[93mCMAPSS_CSV\u001b[0m\n",
      "\u001b[92mConverted \u001b[93mRUL_FD004.txt\u001b[92m to \u001b[96mRUL_FD004.csv\u001b[92m in \u001b[93mCMAPSS_CSV\u001b[0m\n",
      "\u001b[92mAll files have been successfully converted to CSV in the separate directory.\u001b[0m\n"
     ]
    }
   ],
   "source": [
    "\n",
    "# Iterate through each file and convert it to CSV\n",
    "for file_name in file_names:\n",
    "    file_path = os.path.join(dataset_dir, file_name)\n",
    "    \n",
    "    # Load the file into a DataFrame\n",
    "    if \"RUL\" in file_name:\n",
    "        # RUL files have only one column\n",
    "        df = pd.read_csv(file_path, sep=r'\\s+', header=None, names=[\"RUL\"])\n",
    "    else:\n",
    "        # Files with full data have all the column names\n",
    "        df = pd.read_csv(file_path, sep=r'\\s+', header=None, names=column_names)\n",
    "    \n",
    "    # Convert to CSV\n",
    "    csv_file_name = file_name.replace(\".txt\", \".csv\")\n",
    "    csv_file_path = os.path.join(output_dir, csv_file_name)\n",
    "    df.to_csv(csv_file_path, index=False)\n",
    "    \n",
    "    # Print colored message with different colors for better readability\n",
    "    print(f\"{green}Converted {yellow}{file_name}{green} to {cyan}{csv_file_name}{green} in {yellow}{output_dir}{reset}\")\n",
    "\n",
    "print(f\"{green}All files have been successfully converted to CSV in the separate directory.{reset}\")"
   ]
  },
  {
   "cell_type": "code",
   "execution_count": null,
   "metadata": {},
   "outputs": [],
   "source": []
  }
 ],
 "metadata": {
  "kernelspec": {
   "display_name": "Python 3",
   "language": "python",
   "name": "python3"
  },
  "language_info": {
   "codemirror_mode": {
    "name": "ipython",
    "version": 3
   },
   "file_extension": ".py",
   "mimetype": "text/x-python",
   "name": "python",
   "nbconvert_exporter": "python",
   "pygments_lexer": "ipython3",
   "version": "3.9.19"
  }
 },
 "nbformat": 4,
 "nbformat_minor": 2
}
